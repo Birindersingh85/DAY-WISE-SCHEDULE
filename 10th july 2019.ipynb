{
 "cells": [
  {
   "cell_type": "markdown",
   "metadata": {},
   "source": [
    "# DICTIONARIES\n",
    "* IT WORKS ON CONCEPT OF SET UNIQUE DATA\n",
    "\n",
    "* KEYS,VALUES ARE THE UNIQUE IDENTIFIER FOR THE VALUE\n",
    "\n",
    "* EACH KEY IS SEPARATED BY ITS VALUE FROM A COLON(:)\n",
    "\n",
    "* EACH KEY AND VALUE ARE SEPARATED BY A COMMA(,)\n",
    "\n",
    "* DICTIONARIES ARE ENCLOSED IN CURLY BRACKETS({})\n",
    "\n"
   ]
  },
  {
   "cell_type": "markdown",
   "metadata": {},
   "source": [
    "# TUPLES\n",
    "* t1 paranthesis() li square brackets[]\n",
    "* Difference between list and tuples\n",
    "  * list is mutable - can be changed/modified\n",
    "     - used to access modify,add,delete data\n",
    "  * Tuples are immutable - cannot be changed\n",
    "     - used to access data only\n"
   ]
  },
  {
   "cell_type": "markdown",
   "metadata": {},
   "source": [
    "# CONTACT APPLICATION\n",
    "* Add contact\n",
    "* Search the contacts\n",
    "* list all contacts\n",
    "   - name1 : phone1\n",
    "   - name2 : phone2\n",
    "* Modify the contact\n",
    "* Remove the contact\n",
    "* Import the contact\n"
   ]
  },
  {
   "cell_type": "code",
   "execution_count": 3,
   "metadata": {},
   "outputs": [
    {
     "name": "stdout",
     "output_type": "stream",
     "text": [
      "contact details are added\n",
      "contact details are added\n",
      "contact details are already exists\n"
     ]
    }
   ],
   "source": [
    "# add contact\n",
    "contacts = {} # creating a dict object\n",
    "def addcontacts(name,phone):\n",
    "    if name not in contacts:\n",
    "        contacts[name] = phone\n",
    "        print(\"contact details are added\")\n",
    "    else:\n",
    "        print(\"contact details are already exists\")\n",
    "    return\n",
    "addcontacts('meher','9110788336')\n",
    "addcontacts('anil','9876543210')\n",
    "addcontacts('meher','9110788336')\n"
   ]
  },
  {
   "cell_type": "markdown",
   "metadata": {},
   "source": [
    "# PACAKAGES AND MODULES\n",
    "* PACAKAGES\n",
    "         -A COLLECTION OF MODULES(SINGLE PYTHON FILE -PY) AND SUB PACAKAGES\n",
    "         \n",
    "* MODULES\n",
    "         -A SINGLE PYTHON FILE CONTAINING A SET OF FUNCTIONS\n",
    "         \n",
    "* PACAKAGES--->SUBPACAKAGES--->MODULES--->FUNCTIONS--->STATEMENTS"
   ]
  },
  {
   "cell_type": "code",
   "execution_count": 4,
   "metadata": {},
   "outputs": [
    {
     "data": {
      "text/plain": [
       "123"
      ]
     },
     "execution_count": 4,
     "metadata": {},
     "output_type": "execute_result"
    }
   ],
   "source": [
    "# IMPORT THE EXTERNAL PACAKAGES TO THE PYTHON FILE\n",
    "import math\n",
    "math.floor(123.45)"
   ]
  },
  {
   "cell_type": "code",
   "execution_count": 5,
   "metadata": {},
   "outputs": [
    {
     "data": {
      "text/plain": [
       "120"
      ]
     },
     "execution_count": 5,
     "metadata": {},
     "output_type": "execute_result"
    }
   ],
   "source": [
    "from math import factorial as fact\n",
    "fact(5)"
   ]
  },
  {
   "cell_type": "code",
   "execution_count": 6,
   "metadata": {},
   "outputs": [
    {
     "data": {
      "text/plain": [
       "10"
      ]
     },
     "execution_count": 6,
     "metadata": {},
     "output_type": "execute_result"
    }
   ],
   "source": [
    "from math import gcd as gcd\n",
    "gcd(10,20)"
   ]
  },
  {
   "cell_type": "code",
   "execution_count": 10,
   "metadata": {},
   "outputs": [
    {
     "name": "stdout",
     "output_type": "stream",
     "text": [
      "46 68 78 53 7 13 92 23 50 46 "
     ]
    }
   ],
   "source": [
    "# FUNCTION TO GENERATE N RANDOM NUMBERS IN GIVEN RANGE\n",
    "import random\n",
    "def randomnumbers(n,lb,ub):\n",
    "    for i in range(0,n):\n",
    "        print(random.randint(lb,ub),end=\" \")\n",
    "    return\n",
    "randomnumbers(10,0,100)\n",
    "    "
   ]
  },
  {
   "cell_type": "code",
   "execution_count": null,
   "metadata": {},
   "outputs": [],
   "source": [
    "# CREATE A SIMPLE GAME!!\n",
    "# GENERATE 20 RANDOM NOS -- 0 TO 500\n",
    "# INPUT - - NUMBER\n",
    "#OUTPUT - - CONGRATS!!\n",
    "#            TRY ONCE AGAIN\n",
    "import random\n",
    "def randomnumbers(n,lb,ub):\n",
    "    for i in range(0,n):\n",
    "        print(random.randint(lb,ub),end=\" \")\n",
    "        "
   ]
  }
 ],
 "metadata": {
  "kernelspec": {
   "display_name": "Python 3",
   "language": "python",
   "name": "python3"
  },
  "language_info": {
   "codemirror_mode": {
    "name": "ipython",
    "version": 3
   },
   "file_extension": ".py",
   "mimetype": "text/x-python",
   "name": "python",
   "nbconvert_exporter": "python",
   "pygments_lexer": "ipython3",
   "version": "3.7.3"
  }
 },
 "nbformat": 4,
 "nbformat_minor": 2
}
