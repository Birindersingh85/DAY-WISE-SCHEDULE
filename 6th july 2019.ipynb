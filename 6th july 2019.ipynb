{
 "cells": [
  {
   "cell_type": "code",
   "execution_count": 26,
   "metadata": {},
   "outputs": [
    {
     "name": "stdout",
     "output_type": "stream",
     "text": [
      "enter number 1 33\n",
      "enter number 2 44\n",
      "enter number 3 55\n",
      "55 is larger number\n"
     ]
    }
   ],
   "source": [
    "# find the large number from 3 numbers\n",
    "a1=int(input(\"enter number 1 \"))in\n",
    "a2=int(input(\"enter number 2 \"))\n",
    "a3=int(input(\"enter number 3 \"))\n",
    "if a1>a2 and a1>a3:\n",
    "    print(a1, \"is larger number \")\n",
    "elif a2>a1 and a2>a3:\n",
    "        print(a2, \"is larger number \")\n",
    "else:\n",
    "    print(a3, \"is larger number\")"
   ]
  },
  {
   "cell_type": "code",
   "execution_count": 28,
   "metadata": {},
   "outputs": [
    {
     "name": "stdout",
     "output_type": "stream",
     "text": [
      "ebter year2000\n",
      "2000 is leap year\n"
     ]
    }
   ],
   "source": [
    "#find the year is  leap year or not\n",
    "n=int(input(\"ebter year\"))\n",
    "if n%4==0:\n",
    "    print(n,\"is leap year\")\n",
    "else:\n",
    "        print(\"not a leap year\")"
   ]
  },
  {
   "cell_type": "code",
   "execution_count": 29,
   "metadata": {},
   "outputs": [
    {
     "name": "stdout",
     "output_type": "stream",
     "text": [
      "ebter number8\n",
      "8 is not a odd number\n"
     ]
    }
   ],
   "source": [
    "\n",
    "#find the number is odd  or not\n",
    "n=int(input(\"ebter number\"))\n",
    "if n%2==0:\n",
    "    print(n,\"is not a odd number\")\n",
    "else:\n",
    "        print(\"a odd numberr\")"
   ]
  },
  {
   "cell_type": "markdown",
   "metadata": {},
   "source": [
    "# ITERATION STATEMENT\n",
    "\n",
    "* while\n",
    "\n",
    "* for\n",
    "\n",
    " SYNTAX:\n",
    " \n",
    "  while boolean_condition:\n",
    "  \n",
    "   statements\n",
    "   \n",
    "    increment/decrement\n",
    " "
   ]
  },
  {
   "cell_type": "code",
   "execution_count": 30,
   "metadata": {},
   "outputs": [
    {
     "name": "stdout",
     "output_type": "stream",
     "text": [
      "GITAM\n",
      "GITAM\n",
      "GITAM\n",
      "GITAM\n",
      "GITAM\n"
     ]
    }
   ],
   "source": [
    "# to print GITAM for 5 times\n",
    "print(\"GITAM\")\n",
    "print(\"GITAM\")\n",
    "print(\"GITAM\")\n",
    "print(\"GITAM\")\n",
    "print(\"GITAM\")"
   ]
  },
  {
   "cell_type": "code",
   "execution_count": 33,
   "metadata": {},
   "outputs": [
    {
     "name": "stdout",
     "output_type": "stream",
     "text": [
      "GITAM\n",
      "GITAM\n",
      "GITAM\n",
      "GITAM\n",
      "GITAM\n"
     ]
    }
   ],
   "source": [
    "# to print GITAM for 5 times\n",
    "X=0\n",
    "while X<5:\n",
    "    print(\"GITAM\")\n",
    "    X=X+1"
   ]
  },
  {
   "cell_type": "code",
   "execution_count": 38,
   "metadata": {},
   "outputs": [
    {
     "name": "stdout",
     "output_type": "stream",
     "text": [
      "number9\n",
      "0\n",
      "1\n",
      "2\n",
      "3\n",
      "4\n",
      "5\n",
      "6\n",
      "7\n",
      "8\n"
     ]
    }
   ],
   "source": [
    "# print n natural numbers\n",
    "x=0\n",
    "n=int(input(\"number\"))\n",
    "while x<n:\n",
    "    print(x)\n",
    "    x=x+1"
   ]
  },
  {
   "cell_type": "code",
   "execution_count": 18,
   "metadata": {},
   "outputs": [
    {
     "name": "stdout",
     "output_type": "stream",
     "text": [
      "number10\n",
      "30\n"
     ]
    }
   ],
   "source": [
    "# rean a number and print even numbers between 1 to n\n",
    "x=1\n",
    "sum=0\n",
    "n=int(input(\"number\"))\n",
    "while x<=n:\n",
    "    if x%2==0:\n",
    "        sum=sum+x\n",
    "    x=x+1\n",
    "print(sum)\n",
    "        \n",
    "\n"
   ]
  },
  {
   "cell_type": "code",
   "execution_count": 3,
   "metadata": {},
   "outputs": [
    {
     "name": "stdout",
     "output_type": "stream",
     "text": [
      "number123\n",
      "3\n",
      "2\n",
      "1\n"
     ]
    }
   ],
   "source": [
    "# print the digits of given number in reverse order\n",
    "n=int(input(\"number\"))\n",
    "x=0\n",
    "while n>0:\n",
    "    x=n%10\n",
    "    print(x)\n",
    "    n=n//10\n",
    "\n",
    "    "
   ]
  },
  {
   "cell_type": "markdown",
   "metadata": {},
   "source": [
    "# functional programming\n",
    "* SIMPLE\n",
    "* EASY READ\n",
    "* lengthy program divides into sub program\n"
   ]
  },
  {
   "cell_type": "markdown",
   "metadata": {},
   "source": [
    "def nameofthefunction(<parameters>):\n",
    "    \n",
    "    statement\n",
    "    \n",
    "    return\n",
    "    "
   ]
  },
  {
   "cell_type": "markdown",
   "metadata": {},
   "source": [
    "# read a number - - 1234\n",
    "# output - - 6\n",
    "def addevendigits(n):\n",
    "    # statement to compute the output of the program\n",
    "    return\n",
    "addevendigits(1234)\n",
    "\n"
   ]
  },
  {
   "cell_type": "code",
   "execution_count": 1,
   "metadata": {},
   "outputs": [
    {
     "name": "stdout",
     "output_type": "stream",
     "text": [
      "6\n"
     ]
    }
   ],
   "source": [
    "def addevendigits(n):\n",
    "    sum = 0\n",
    "    while n!= 0:\n",
    "        r = n % 10\n",
    "        if r % 2 == 0:\n",
    "            sum = sum +r\n",
    "        n = n // 10\n",
    "    print(sum)\n",
    "addevendigits(1234)"
   ]
  },
  {
   "cell_type": "markdown",
   "metadata": {},
   "source": [
    "# to print the largest digit of the number\n",
    "read a number - - 3478\n",
    "output - - 8\n",
    "\n",
    "\n"
   ]
  },
  {
   "cell_type": "code",
   "execution_count": 7,
   "metadata": {},
   "outputs": [
    {
     "data": {
      "text/plain": [
       "9"
      ]
     },
     "execution_count": 7,
     "metadata": {},
     "output_type": "execute_result"
    }
   ],
   "source": [
    "def printlarge(n):\n",
    "    large = 0\n",
    "    while n != 0:\n",
    "        r = n % 10\n",
    "        if large < r:\n",
    "            large = r\n",
    "        n = n // 10 \n",
    "    return large\n",
    "printlarge(19528)\n"
   ]
  },
  {
   "cell_type": "markdown",
   "metadata": {},
   "source": [
    "# reverse of the number\n",
    "read a number - - 123\n",
    "output -- 321\n"
   ]
  },
  {
   "cell_type": "code",
   "execution_count": 1,
   "metadata": {},
   "outputs": [
    {
     "name": "stdout",
     "output_type": "stream",
     "text": [
      "number123\n",
      "321 "
     ]
    }
   ],
   "source": [
    "# print the digits of given number in reverse order\n",
    "n=int(input(\"number\"))\n",
    "x=0\n",
    "sum=0\n",
    "while n>0:\n",
    "    x=n%10\n",
    "    sum=sum*10+x\n",
    "    n=n//10\n",
    "print(sum,end =\" \")\n",
    "    \n"
   ]
  },
  {
   "cell_type": "markdown",
   "metadata": {},
   "source": [
    "# check weather palindrome or not\n",
    "enter number - -123\n",
    "\n",
    "output - - yes"
   ]
  },
  {
   "cell_type": "code",
   "execution_count": 9,
   "metadata": {},
   "outputs": [
    {
     "name": "stdout",
     "output_type": "stream",
     "text": [
      "number123\n",
      "not palindrome\n"
     ]
    }
   ],
   "source": [
    "# print the digits of given number in reverse order\n",
    "n=int(input(\"number\"))\n",
    "x=0\n",
    "sum=0\n",
    "y=n\n",
    "while n>0:\n",
    "    x=n%10\n",
    "    sum=sum*10+x\n",
    "    n=n//10\n",
    "    if sum==y:\n",
    "        print(\"palindrome\")\n",
    "else:\n",
    "    print(\"not palindrome\")\n",
    "    "
   ]
  },
  {
   "cell_type": "markdown",
   "metadata": {},
   "source": [
    "# FOR LOOP"
   ]
  },
  {
   "cell_type": "code",
   "execution_count": 2,
   "metadata": {},
   "outputs": [
    {
     "name": "stdout",
     "output_type": "stream",
     "text": [
      "1 2 3 4 5 6 7 8 9 10 "
     ]
    }
   ],
   "source": [
    "def printnnaturalnumbers(n):\n",
    "    for x in range(1,n+1):\n",
    "        print(x,end=\" \")\n",
    "    return\n",
    "printnnaturalnumbers(10)"
   ]
  },
  {
   "cell_type": "markdown",
   "metadata": {},
   "source": [
    "# function to print numbers between 2 limits\n",
    "input : 11,25\n",
    "\n",
    "output : 11,12,13,.......25"
   ]
  },
  {
   "cell_type": "code",
   "execution_count": 3,
   "metadata": {},
   "outputs": [
    {
     "name": "stdout",
     "output_type": "stream",
     "text": [
      "11 12 13 14 15 16 17 18 19 20 21 22 23 24 25 "
     ]
    }
   ],
   "source": [
    "def printseries(lb,ub):\n",
    "    for x in range(lb,ub+1):\n",
    "        print(x,end=\" \")\n",
    "    return\n",
    "printseries(11,25)\n"
   ]
  },
  {
   "cell_type": "markdown",
   "metadata": {},
   "source": [
    "# function should print alternate numbers\n",
    "input : 500,520\n",
    "\n",
    "output: 500.502,504,....520"
   ]
  },
  {
   "cell_type": "code",
   "execution_count": null,
   "metadata": {},
   "outputs": [],
   "source": []
  }
 ],
 "metadata": {
  "kernelspec": {
   "display_name": "Python 3",
   "language": "python",
   "name": "python3"
  },
  "language_info": {
   "codemirror_mode": {
    "name": "ipython",
    "version": 3
   },
   "file_extension": ".py",
   "mimetype": "text/x-python",
   "name": "python",
   "nbconvert_exporter": "python",
   "pygments_lexer": "ipython3",
   "version": "3.7.3"
  }
 },
 "nbformat": 4,
 "nbformat_minor": 2
}
